{
 "cells": [
  {
   "cell_type": "markdown",
   "metadata": {},
   "source": [
    "# pandas exploration\n",
    "In this assignment you will select a data set and do some munging and analysis of it using `pandas`, Jupyter Notebooks, and associated Python-centric data science tools."
   ]
  },
  {
   "cell_type": "markdown",
   "metadata": {},
   "source": [
    "## Set up environment"
   ]
  },
  {
   "cell_type": "markdown",
   "metadata": {},
   "source": [
    "The following lines ensure that `numpy` and `pandas` are installed in the notebook environment.  Depending on your system, this may not be necessary and may be removed."
   ]
  },
  {
   "cell_type": "code",
   "execution_count": 1,
   "metadata": {},
   "outputs": [
    {
     "name": "stdout",
     "output_type": "stream",
     "text": [
      "Requirement already satisfied: numpy in /opt/anaconda3/lib/python3.9/site-packages (1.21.5)\n",
      "Requirement already satisfied: pandas in /opt/anaconda3/lib/python3.9/site-packages (1.4.4)\n",
      "Requirement already satisfied: python-dateutil>=2.8.1 in /opt/anaconda3/lib/python3.9/site-packages (from pandas) (2.8.2)\n",
      "Requirement already satisfied: pytz>=2020.1 in /opt/anaconda3/lib/python3.9/site-packages (from pandas) (2022.1)\n",
      "Requirement already satisfied: numpy>=1.18.5 in /opt/anaconda3/lib/python3.9/site-packages (from pandas) (1.21.5)\n",
      "Requirement already satisfied: six>=1.5 in /opt/anaconda3/lib/python3.9/site-packages (from python-dateutil>=2.8.1->pandas) (1.16.0)\n"
     ]
    }
   ],
   "source": [
    "!pip install numpy\n",
    "!pip install pandas\n",
    "!pip install matplotlib"
   ]
  },
  {
   "cell_type": "markdown",
   "metadata": {},
   "source": [
    "Import the core data science libraries:"
   ]
  },
  {
   "cell_type": "code",
   "execution_count": 2,
   "metadata": {},
   "outputs": [],
   "source": [
    "%matplotlib inline\n",
    "import matplotlib.pyplot as plt\n",
    "import numpy as np\n",
    "import pandas as pd"
   ]
  },
  {
   "cell_type": "markdown",
   "metadata": {},
   "source": [
    "## Import the raw data\n",
    "In this section, you will import the raw data into a `pandas` DataFrame."
   ]
  },
  {
   "cell_type": "code",
   "execution_count": 11,
   "metadata": {},
   "outputs": [],
   "source": [
    "df = pd.read_csv('./data/2018_Central_Park_Squirrel_Census_Squirrel_Data.csv')"
   ]
  },
  {
   "cell_type": "markdown",
   "metadata": {},
   "source": [
    "## Data inspection\n",
    "In this section, you will show enough of your data for a viewer to get a general sense of how the data is structured and any unique features of it.  Complete each of the indicated tasks in a Code cell, making sure to include a Markdown cell above each Code cell that explains what is being shown by the code.  \n",
    "- Show 5 rows, selected at random, from the data set.\n",
    "- Show each of the column names and their data types.\n",
    "- Show any unique features of your chosen data set.\n",
    "\n",
    "Feel free to add as many additional cells as you need to help explain the raw data."
   ]
  },
  {
   "cell_type": "markdown",
   "metadata": {},
   "source": [
    "__This code shows 5 rows in random__"
   ]
  },
  {
   "cell_type": "code",
   "execution_count": 12,
   "metadata": {},
   "outputs": [
    {
     "data": {
      "text/html": [
       "<div>\n",
       "<style scoped>\n",
       "    .dataframe tbody tr th:only-of-type {\n",
       "        vertical-align: middle;\n",
       "    }\n",
       "\n",
       "    .dataframe tbody tr th {\n",
       "        vertical-align: top;\n",
       "    }\n",
       "\n",
       "    .dataframe thead th {\n",
       "        text-align: right;\n",
       "    }\n",
       "</style>\n",
       "<table border=\"1\" class=\"dataframe\">\n",
       "  <thead>\n",
       "    <tr style=\"text-align: right;\">\n",
       "      <th></th>\n",
       "      <th>X</th>\n",
       "      <th>Y</th>\n",
       "      <th>Unique Squirrel ID</th>\n",
       "      <th>Hectare</th>\n",
       "      <th>Shift</th>\n",
       "      <th>Date</th>\n",
       "      <th>Hectare Squirrel Number</th>\n",
       "      <th>Age</th>\n",
       "      <th>Primary Fur Color</th>\n",
       "      <th>Highlight Fur Color</th>\n",
       "      <th>...</th>\n",
       "      <th>Kuks</th>\n",
       "      <th>Quaas</th>\n",
       "      <th>Moans</th>\n",
       "      <th>Tail flags</th>\n",
       "      <th>Tail twitches</th>\n",
       "      <th>Approaches</th>\n",
       "      <th>Indifferent</th>\n",
       "      <th>Runs from</th>\n",
       "      <th>Other Interactions</th>\n",
       "      <th>Lat/Long</th>\n",
       "    </tr>\n",
       "  </thead>\n",
       "  <tbody>\n",
       "    <tr>\n",
       "      <th>826</th>\n",
       "      <td>-73.970025</td>\n",
       "      <td>40.783693</td>\n",
       "      <td>21A-AM-1019-08</td>\n",
       "      <td>21A</td>\n",
       "      <td>AM</td>\n",
       "      <td>10192018</td>\n",
       "      <td>8</td>\n",
       "      <td>Adult</td>\n",
       "      <td>Gray</td>\n",
       "      <td>Cinnamon</td>\n",
       "      <td>...</td>\n",
       "      <td>False</td>\n",
       "      <td>False</td>\n",
       "      <td>False</td>\n",
       "      <td>False</td>\n",
       "      <td>False</td>\n",
       "      <td>False</td>\n",
       "      <td>True</td>\n",
       "      <td>False</td>\n",
       "      <td>NaN</td>\n",
       "      <td>POINT (-73.97002473509 40.7836929044459)</td>\n",
       "    </tr>\n",
       "    <tr>\n",
       "      <th>841</th>\n",
       "      <td>-73.964515</td>\n",
       "      <td>40.777257</td>\n",
       "      <td>17I-AM-1014-04</td>\n",
       "      <td>17I</td>\n",
       "      <td>AM</td>\n",
       "      <td>10142018</td>\n",
       "      <td>4</td>\n",
       "      <td>Adult</td>\n",
       "      <td>Gray</td>\n",
       "      <td>Cinnamon, White</td>\n",
       "      <td>...</td>\n",
       "      <td>False</td>\n",
       "      <td>False</td>\n",
       "      <td>False</td>\n",
       "      <td>False</td>\n",
       "      <td>False</td>\n",
       "      <td>True</td>\n",
       "      <td>True</td>\n",
       "      <td>False</td>\n",
       "      <td>NaN</td>\n",
       "      <td>POINT (-73.9645147011741 40.7772566833799)</td>\n",
       "    </tr>\n",
       "    <tr>\n",
       "      <th>1618</th>\n",
       "      <td>-73.975584</td>\n",
       "      <td>40.767024</td>\n",
       "      <td>2F-PM-1014-02</td>\n",
       "      <td>02F</td>\n",
       "      <td>PM</td>\n",
       "      <td>10142018</td>\n",
       "      <td>2</td>\n",
       "      <td>Adult</td>\n",
       "      <td>Gray</td>\n",
       "      <td>NaN</td>\n",
       "      <td>...</td>\n",
       "      <td>False</td>\n",
       "      <td>False</td>\n",
       "      <td>False</td>\n",
       "      <td>False</td>\n",
       "      <td>False</td>\n",
       "      <td>False</td>\n",
       "      <td>True</td>\n",
       "      <td>False</td>\n",
       "      <td>NaN</td>\n",
       "      <td>POINT (-73.9755836827968 40.7670239327996)</td>\n",
       "    </tr>\n",
       "    <tr>\n",
       "      <th>516</th>\n",
       "      <td>-73.965901</td>\n",
       "      <td>40.779168</td>\n",
       "      <td>18G-PM-1013-02</td>\n",
       "      <td>18G</td>\n",
       "      <td>PM</td>\n",
       "      <td>10132018</td>\n",
       "      <td>2</td>\n",
       "      <td>Adult</td>\n",
       "      <td>Gray</td>\n",
       "      <td>NaN</td>\n",
       "      <td>...</td>\n",
       "      <td>False</td>\n",
       "      <td>False</td>\n",
       "      <td>False</td>\n",
       "      <td>False</td>\n",
       "      <td>False</td>\n",
       "      <td>False</td>\n",
       "      <td>False</td>\n",
       "      <td>False</td>\n",
       "      <td>NaN</td>\n",
       "      <td>POINT (-73.9659010238417 40.779168366621505)</td>\n",
       "    </tr>\n",
       "    <tr>\n",
       "      <th>570</th>\n",
       "      <td>-73.967469</td>\n",
       "      <td>40.778973</td>\n",
       "      <td>17E-AM-1017-06</td>\n",
       "      <td>17E</td>\n",
       "      <td>AM</td>\n",
       "      <td>10172018</td>\n",
       "      <td>6</td>\n",
       "      <td>Adult</td>\n",
       "      <td>Gray</td>\n",
       "      <td>NaN</td>\n",
       "      <td>...</td>\n",
       "      <td>False</td>\n",
       "      <td>False</td>\n",
       "      <td>False</td>\n",
       "      <td>False</td>\n",
       "      <td>False</td>\n",
       "      <td>False</td>\n",
       "      <td>True</td>\n",
       "      <td>False</td>\n",
       "      <td>NaN</td>\n",
       "      <td>POINT (-73.9674688433583 40.7789728381912)</td>\n",
       "    </tr>\n",
       "  </tbody>\n",
       "</table>\n",
       "<p>5 rows × 31 columns</p>\n",
       "</div>"
      ],
      "text/plain": [
       "              X          Y Unique Squirrel ID Hectare Shift      Date  \\\n",
       "826  -73.970025  40.783693     21A-AM-1019-08     21A    AM  10192018   \n",
       "841  -73.964515  40.777257     17I-AM-1014-04     17I    AM  10142018   \n",
       "1618 -73.975584  40.767024      2F-PM-1014-02     02F    PM  10142018   \n",
       "516  -73.965901  40.779168     18G-PM-1013-02     18G    PM  10132018   \n",
       "570  -73.967469  40.778973     17E-AM-1017-06     17E    AM  10172018   \n",
       "\n",
       "      Hectare Squirrel Number    Age Primary Fur Color Highlight Fur Color  \\\n",
       "826                         8  Adult              Gray            Cinnamon   \n",
       "841                         4  Adult              Gray     Cinnamon, White   \n",
       "1618                        2  Adult              Gray                 NaN   \n",
       "516                         2  Adult              Gray                 NaN   \n",
       "570                         6  Adult              Gray                 NaN   \n",
       "\n",
       "      ...   Kuks  Quaas  Moans Tail flags Tail twitches  Approaches  \\\n",
       "826   ...  False  False  False      False         False       False   \n",
       "841   ...  False  False  False      False         False        True   \n",
       "1618  ...  False  False  False      False         False       False   \n",
       "516   ...  False  False  False      False         False       False   \n",
       "570   ...  False  False  False      False         False       False   \n",
       "\n",
       "      Indifferent  Runs from  Other Interactions  \\\n",
       "826          True      False                 NaN   \n",
       "841          True      False                 NaN   \n",
       "1618         True      False                 NaN   \n",
       "516         False      False                 NaN   \n",
       "570          True      False                 NaN   \n",
       "\n",
       "                                          Lat/Long  \n",
       "826       POINT (-73.97002473509 40.7836929044459)  \n",
       "841     POINT (-73.9645147011741 40.7772566833799)  \n",
       "1618    POINT (-73.9755836827968 40.7670239327996)  \n",
       "516   POINT (-73.9659010238417 40.779168366621505)  \n",
       "570     POINT (-73.9674688433583 40.7789728381912)  \n",
       "\n",
       "[5 rows x 31 columns]"
      ]
     },
     "execution_count": 12,
     "metadata": {},
     "output_type": "execute_result"
    }
   ],
   "source": [
    "df.sample(5)"
   ]
  },
  {
   "cell_type": "markdown",
   "metadata": {},
   "source": [
    "__This code shows the data types of each column and their names__"
   ]
  },
  {
   "cell_type": "code",
   "execution_count": 13,
   "metadata": {},
   "outputs": [
    {
     "data": {
      "text/plain": [
       "X                                             float64\n",
       "Y                                             float64\n",
       "Unique Squirrel ID                             object\n",
       "Hectare                                        object\n",
       "Shift                                          object\n",
       "Date                                            int64\n",
       "Hectare Squirrel Number                         int64\n",
       "Age                                            object\n",
       "Primary Fur Color                              object\n",
       "Highlight Fur Color                            object\n",
       "Combination of Primary and Highlight Color     object\n",
       "Color notes                                    object\n",
       "Location                                       object\n",
       "Above Ground Sighter Measurement               object\n",
       "Specific Location                              object\n",
       "Running                                          bool\n",
       "Chasing                                          bool\n",
       "Climbing                                         bool\n",
       "Eating                                           bool\n",
       "Foraging                                         bool\n",
       "Other Activities                               object\n",
       "Kuks                                             bool\n",
       "Quaas                                            bool\n",
       "Moans                                            bool\n",
       "Tail flags                                       bool\n",
       "Tail twitches                                    bool\n",
       "Approaches                                       bool\n",
       "Indifferent                                      bool\n",
       "Runs from                                        bool\n",
       "Other Interactions                             object\n",
       "Lat/Long                                       object\n",
       "dtype: object"
      ]
     },
     "execution_count": 13,
     "metadata": {},
     "output_type": "execute_result"
    }
   ],
   "source": [
    "df.info()"
   ]
  },
  {
   "cell_type": "markdown",
   "metadata": {},
   "source": [
    "__This code shows how many areas have squirrels that are primary cinnamon color!__"
   ]
  },
  {
   "cell_type": "code",
   "execution_count": 17,
   "metadata": {},
   "outputs": [
    {
     "data": {
      "text/plain": [
       "392.0"
      ]
     },
     "execution_count": 17,
     "metadata": {},
     "output_type": "execute_result"
    }
   ],
   "source": [
    "df['Primary Fur Color'].str.count('Cinnamon').sum()"
   ]
  },
  {
   "cell_type": "markdown",
   "metadata": {},
   "source": [
    "## Data munging\n",
    "Place your **data munging** code and documentation within this section.  \n",
    "- Keep each of your Code cells short and focused on a single task.  \n",
    "- Include a Markdown cell above each code cell that describes what task the code within the code cell is performing.\n",
    "- Make as many code cells as you need to complete the munging - a few have been created for you to start with.\n",
    "- Display 5 sample rows of the modified data after each transformation so a viewer can see how the data has changed.\n",
    "\n",
    "**Note**: If you believe that your data set does not require any munging, please explain in detail.  Create Markdown cells that explain your thinking and create Code cells that show any specific structures of the data you refer to in your explanation."
   ]
  },
  {
   "cell_type": "markdown",
   "metadata": {},
   "source": [
    "__I will remove those columns because many rows in those columns are empty__"
   ]
  },
  {
   "cell_type": "code",
   "execution_count": 18,
   "metadata": {},
   "outputs": [],
   "source": [
    "new_df = df.drop(['Color notes', 'Specific Location', 'Other Activities', 'Other Interactions'], axis=1)"
   ]
  },
  {
   "cell_type": "markdown",
   "metadata": {},
   "source": [
    "__I will fill the empty cells in column \"Above Ground Sighter Measurement\" with False__"
   ]
  },
  {
   "cell_type": "code",
   "execution_count": 19,
   "metadata": {},
   "outputs": [],
   "source": [
    "new_df[\"Above Ground Sighter Measurement\"] = df[\"Above Ground Sighter Measurement\"].fillna('FALSE')"
   ]
  },
  {
   "cell_type": "markdown",
   "metadata": {},
   "source": [
    "__I will fill the empy cells in column \"Hightlight Fur Color\" with the value in \"Primary Fur Color\"__"
   ]
  },
  {
   "cell_type": "code",
   "execution_count": null,
   "metadata": {},
   "outputs": [],
   "source": [
    "new_df['Highlight Fur Color'] = new_df['Highlight Fur Color'].fillna(new_df['Primary Fur Color'])"
   ]
  },
  {
   "cell_type": "markdown",
   "metadata": {},
   "source": [
    "__I will drop rows with empy cells and rows that have '?' in its age column__"
   ]
  },
  {
   "cell_type": "code",
   "execution_count": 20,
   "metadata": {},
   "outputs": [],
   "source": [
    "new_df = new_df.dropna()\n",
    "new_df = new_df[new_df['Age'] != '?']"
   ]
  },
  {
   "cell_type": "markdown",
   "metadata": {},
   "source": [
    "__Show 5 random rows__"
   ]
  },
  {
   "cell_type": "code",
   "execution_count": 10,
   "metadata": {},
   "outputs": [
    {
     "data": {
      "text/html": [
       "<div>\n",
       "<style scoped>\n",
       "    .dataframe tbody tr th:only-of-type {\n",
       "        vertical-align: middle;\n",
       "    }\n",
       "\n",
       "    .dataframe tbody tr th {\n",
       "        vertical-align: top;\n",
       "    }\n",
       "\n",
       "    .dataframe thead th {\n",
       "        text-align: right;\n",
       "    }\n",
       "</style>\n",
       "<table border=\"1\" class=\"dataframe\">\n",
       "  <thead>\n",
       "    <tr style=\"text-align: right;\">\n",
       "      <th></th>\n",
       "      <th>X</th>\n",
       "      <th>Y</th>\n",
       "      <th>Unique Squirrel ID</th>\n",
       "      <th>Hectare</th>\n",
       "      <th>Shift</th>\n",
       "      <th>Date</th>\n",
       "      <th>Hectare Squirrel Number</th>\n",
       "      <th>Age</th>\n",
       "      <th>Primary Fur Color</th>\n",
       "      <th>Highlight Fur Color</th>\n",
       "      <th>...</th>\n",
       "      <th>Foraging</th>\n",
       "      <th>Kuks</th>\n",
       "      <th>Quaas</th>\n",
       "      <th>Moans</th>\n",
       "      <th>Tail flags</th>\n",
       "      <th>Tail twitches</th>\n",
       "      <th>Approaches</th>\n",
       "      <th>Indifferent</th>\n",
       "      <th>Runs from</th>\n",
       "      <th>Lat/Long</th>\n",
       "    </tr>\n",
       "  </thead>\n",
       "  <tbody>\n",
       "    <tr>\n",
       "      <th>1387</th>\n",
       "      <td>-73.968571</td>\n",
       "      <td>40.774488</td>\n",
       "      <td>12G-PM-1007-07</td>\n",
       "      <td>12G</td>\n",
       "      <td>PM</td>\n",
       "      <td>10072018</td>\n",
       "      <td>7</td>\n",
       "      <td>Juvenile</td>\n",
       "      <td>NaN</td>\n",
       "      <td>NaN</td>\n",
       "      <td>...</td>\n",
       "      <td>False</td>\n",
       "      <td>False</td>\n",
       "      <td>False</td>\n",
       "      <td>False</td>\n",
       "      <td>False</td>\n",
       "      <td>False</td>\n",
       "      <td>False</td>\n",
       "      <td>False</td>\n",
       "      <td>False</td>\n",
       "      <td>POINT (-73.9685709455958 40.7744877026506)</td>\n",
       "    </tr>\n",
       "    <tr>\n",
       "      <th>2978</th>\n",
       "      <td>-73.957181</td>\n",
       "      <td>40.793444</td>\n",
       "      <td>35E-AM-1020-02</td>\n",
       "      <td>35E</td>\n",
       "      <td>AM</td>\n",
       "      <td>10202018</td>\n",
       "      <td>2</td>\n",
       "      <td>Adult</td>\n",
       "      <td>Gray</td>\n",
       "      <td>Cinnamon</td>\n",
       "      <td>...</td>\n",
       "      <td>False</td>\n",
       "      <td>False</td>\n",
       "      <td>False</td>\n",
       "      <td>False</td>\n",
       "      <td>False</td>\n",
       "      <td>False</td>\n",
       "      <td>False</td>\n",
       "      <td>True</td>\n",
       "      <td>False</td>\n",
       "      <td>POINT (-73.9571808775915 40.7934443866725)</td>\n",
       "    </tr>\n",
       "    <tr>\n",
       "      <th>606</th>\n",
       "      <td>-73.958968</td>\n",
       "      <td>40.791312</td>\n",
       "      <td>33E-AM-1014-09</td>\n",
       "      <td>33E</td>\n",
       "      <td>AM</td>\n",
       "      <td>10142018</td>\n",
       "      <td>9</td>\n",
       "      <td>Juvenile</td>\n",
       "      <td>Black</td>\n",
       "      <td>NaN</td>\n",
       "      <td>...</td>\n",
       "      <td>False</td>\n",
       "      <td>False</td>\n",
       "      <td>False</td>\n",
       "      <td>False</td>\n",
       "      <td>False</td>\n",
       "      <td>False</td>\n",
       "      <td>False</td>\n",
       "      <td>True</td>\n",
       "      <td>False</td>\n",
       "      <td>POINT (-73.9589675995517 40.7913119223584)</td>\n",
       "    </tr>\n",
       "    <tr>\n",
       "      <th>276</th>\n",
       "      <td>-73.978780</td>\n",
       "      <td>40.770753</td>\n",
       "      <td>5A-PM-1010-01</td>\n",
       "      <td>05A</td>\n",
       "      <td>PM</td>\n",
       "      <td>10102018</td>\n",
       "      <td>1</td>\n",
       "      <td>Adult</td>\n",
       "      <td>Gray</td>\n",
       "      <td>White</td>\n",
       "      <td>...</td>\n",
       "      <td>True</td>\n",
       "      <td>False</td>\n",
       "      <td>False</td>\n",
       "      <td>False</td>\n",
       "      <td>False</td>\n",
       "      <td>True</td>\n",
       "      <td>False</td>\n",
       "      <td>False</td>\n",
       "      <td>False</td>\n",
       "      <td>POINT (-73.9787796921165 40.7707526535381)</td>\n",
       "    </tr>\n",
       "    <tr>\n",
       "      <th>807</th>\n",
       "      <td>-73.971688</td>\n",
       "      <td>40.778554</td>\n",
       "      <td>15C-PM-1017-02</td>\n",
       "      <td>15C</td>\n",
       "      <td>PM</td>\n",
       "      <td>10172018</td>\n",
       "      <td>2</td>\n",
       "      <td>Adult</td>\n",
       "      <td>Gray</td>\n",
       "      <td>Cinnamon</td>\n",
       "      <td>...</td>\n",
       "      <td>False</td>\n",
       "      <td>False</td>\n",
       "      <td>False</td>\n",
       "      <td>False</td>\n",
       "      <td>False</td>\n",
       "      <td>False</td>\n",
       "      <td>False</td>\n",
       "      <td>False</td>\n",
       "      <td>True</td>\n",
       "      <td>POINT (-73.9716881838671 40.778553537087)</td>\n",
       "    </tr>\n",
       "  </tbody>\n",
       "</table>\n",
       "<p>5 rows × 27 columns</p>\n",
       "</div>"
      ],
      "text/plain": [
       "              X          Y Unique Squirrel ID Hectare Shift      Date  \\\n",
       "1387 -73.968571  40.774488     12G-PM-1007-07     12G    PM  10072018   \n",
       "2978 -73.957181  40.793444     35E-AM-1020-02     35E    AM  10202018   \n",
       "606  -73.958968  40.791312     33E-AM-1014-09     33E    AM  10142018   \n",
       "276  -73.978780  40.770753      5A-PM-1010-01     05A    PM  10102018   \n",
       "807  -73.971688  40.778554     15C-PM-1017-02     15C    PM  10172018   \n",
       "\n",
       "      Hectare Squirrel Number       Age Primary Fur Color Highlight Fur Color  \\\n",
       "1387                        7  Juvenile               NaN                 NaN   \n",
       "2978                        2     Adult              Gray            Cinnamon   \n",
       "606                         9  Juvenile             Black                 NaN   \n",
       "276                         1     Adult              Gray               White   \n",
       "807                         2     Adult              Gray            Cinnamon   \n",
       "\n",
       "      ... Foraging   Kuks  Quaas  Moans  Tail flags  Tail twitches  \\\n",
       "1387  ...    False  False  False  False       False          False   \n",
       "2978  ...    False  False  False  False       False          False   \n",
       "606   ...    False  False  False  False       False          False   \n",
       "276   ...     True  False  False  False       False           True   \n",
       "807   ...    False  False  False  False       False          False   \n",
       "\n",
       "      Approaches  Indifferent  Runs from  \\\n",
       "1387       False        False      False   \n",
       "2978       False         True      False   \n",
       "606        False         True      False   \n",
       "276        False        False      False   \n",
       "807        False        False       True   \n",
       "\n",
       "                                        Lat/Long  \n",
       "1387  POINT (-73.9685709455958 40.7744877026506)  \n",
       "2978  POINT (-73.9571808775915 40.7934443866725)  \n",
       "606   POINT (-73.9589675995517 40.7913119223584)  \n",
       "276   POINT (-73.9787796921165 40.7707526535381)  \n",
       "807    POINT (-73.9716881838671 40.778553537087)  \n",
       "\n",
       "[5 rows x 27 columns]"
      ]
     },
     "execution_count": 10,
     "metadata": {},
     "output_type": "execute_result"
    }
   ],
   "source": [
    "new_df.sample(5)"
   ]
  },
  {
   "cell_type": "markdown",
   "metadata": {},
   "source": [
    "## Data analysis\n",
    "Place your **data analysis** code and documentation within this section.\n",
    "- Perform at least 5 different statistical or other analyses of different aspects of the data.\n",
    "    - Your analyses must be specific and relevant to your chosen data set and show interesting aspects of it.\n",
    "    - Include at least one analysis that includes grouping rows by a shared attribute and performing some kind of statistical analysis on each group.\n",
    "    - Sort the data in at least 1 of your analyses, but sort on its own does not constitute an analysis on its own.\n",
    "- Keep each of your Code cells short and focused on a single task.\n",
    "- Include a Markdown cell above each Code cell that describes what task the code within the Code cell is performing.\n",
    "- Make as many code cells as you need to complete the analysis - a few have been created for you to start with."
   ]
  },
  {
   "cell_type": "code",
   "execution_count": 21,
   "metadata": {},
   "outputs": [
    {
     "data": {
      "text/plain": [
       "1847"
      ]
     },
     "execution_count": 21,
     "metadata": {},
     "output_type": "execute_result"
    }
   ],
   "source": [
    "new_df.describe()"
   ]
  },
  {
   "cell_type": "markdown",
   "metadata": {},
   "source": [
    "__1. Shows the age distribution of the squirrels.__"
   ]
  },
  {
   "cell_type": "code",
   "execution_count": 22,
   "metadata": {},
   "outputs": [
    {
     "data": {
      "text/plain": [
       "3023"
      ]
     },
     "execution_count": 22,
     "metadata": {},
     "output_type": "execute_result"
    }
   ],
   "source": [
    "new_df['Age'].value_counts()"
   ]
  },
  {
   "cell_type": "markdown",
   "metadata": {},
   "source": [
    "__2. Count the Combination of Primary and Highlight Color.__"
   ]
  },
  {
   "cell_type": "code",
   "execution_count": 31,
   "metadata": {},
   "outputs": [
    {
     "data": {
      "text/plain": [
       "Primary Fur Color\n",
       "Black         29\n",
       "Cinnamon     317\n",
       "Gray        1501\n",
       "Name: Primary Fur Color, dtype: int64"
      ]
     },
     "execution_count": 31,
     "metadata": {},
     "output_type": "execute_result"
    }
   ],
   "source": [
    "new_df.groupby('Combination of Primary and Highlight Color')['Combination of Primary and Highlight Color'].count()"
   ]
  },
  {
   "cell_type": "markdown",
   "metadata": {},
   "source": [
    "__3. Find the Squirrel behaviors percentage between different color groups__"
   ]
  },
  {
   "cell_type": "code",
   "execution_count": 29,
   "metadata": {},
   "outputs": [
    {
     "name": "stdout",
     "output_type": "stream",
     "text": [
      "{'Black': {'Running': 27.586206896551722, 'Chasing': 3.4482758620689653, 'Climbing': 31.03448275862069, 'Eating': 34.48275862068966, 'Foraging': 24.137931034482758}, 'Cinnamon': {'Running': 25.55205047318612, 'Chasing': 7.570977917981073, 'Climbing': 22.082018927444793, 'Eating': 29.02208201892745, 'Foraging': 50.78864353312302}, 'Gray': {'Running': 23.850766155896068, 'Chasing': 8.794137241838774, 'Climbing': 20.45303131245836, 'Eating': 28.181212524983344, 'Foraging': 52.03197868087941}}\n"
     ]
    }
   ],
   "source": [
    "color_groups = new_df.groupby('Primary Fur Color')\n",
    "behaviors = ['Running', 'Chasing', 'Climbing', 'Eating', 'Foraging']\n",
    "behavior_percentages = {}\n",
    "for color, group in color_groups:\n",
    "    color_percentages = {}\n",
    "    for behavior in behaviors:\n",
    "        color_percentages[behavior] = group[behavior].mean() * 100\n",
    "    behavior_percentages[color] = color_percentages\n",
    "\n",
    "print(behavior_percentages)"
   ]
  },
  {
   "cell_type": "markdown",
   "metadata": {},
   "source": [
    "__4. Find the top 5 hectares with the highest number of squirrel sightings.__"
   ]
  },
  {
   "cell_type": "code",
   "execution_count": null,
   "metadata": {},
   "outputs": [],
   "source": [
    "hectares = new_df.groupby('Hectare').size().reset_index(name = 'Sightings')\n",
    "\n",
    "top_hectaures = hectares.sort_values('Sightings', ascending = False).head(5)\n",
    "\n",
    "print(top_hectaures)"
   ]
  },
  {
   "cell_type": "markdown",
   "metadata": {},
   "source": [
    "__5. Find the percentage of adult and juvenile squirrels that were sighted above ground.__"
   ]
  },
  {
   "cell_type": "code",
   "execution_count": 59,
   "metadata": {},
   "outputs": [
    {
     "name": "stdout",
     "output_type": "stream",
     "text": [
      "627\n",
      "0\n",
      "Percentage of adult squirrels that were found above ground: 1.00%\n",
      "Percentage of juvenile squirrels that were found above ground: 0.00%\n"
     ]
    }
   ],
   "source": [
    "above_ground = new_df[new_df['Above Ground Sighter Measurement'] != 'FALSE']\n",
    "\n",
    "adult = above_ground[above_ground['Age'] == 'Adult'].shape[0]\n",
    "juvenile = above_ground[above_ground['Age'] == 'Juvenile'].shape[0]\n",
    "total = adult + juvenile\n",
    "\n",
    "percent_adult = (adult / total) * 100\n",
    "percent_juvenile = (juvenile / total) * 100\n",
    "\n",
    "print(f'Percentage of adult squirrels that were found above ground: {percent_adult:.2f}%')\n",
    "print(f'Percentage of juvenile squirrels that were found above ground: {percent_juvenile:.2f}%')"
   ]
  },
  {
   "cell_type": "markdown",
   "metadata": {},
   "source": [
    "## Data visualization\n",
    "In this section, you will create a few **visualizations** that show some of the insights you have gathered from this data.\n",
    "- Create at least 5 different visualizations, where each visualization shows different insights into the data.\n",
    "- Use at least 3 different visualization types (e.g. bar charts, line charts, stacked area charts, pie charts, etc)\n",
    "- Create a Markdown cell and a Code cell for each, where you explain and show the visualizations, respectively.\n",
    "- Create as many additional cells as you need to prepare the data for the visualizations."
   ]
  },
  {
   "cell_type": "markdown",
   "metadata": {},
   "source": [
    "__1. This is a bar chart showing the age distribution of the squirrels.__"
   ]
  },
  {
   "cell_type": "code",
   "execution_count": null,
   "metadata": {},
   "outputs": [],
   "source": [
    "age = new_df['Age'].value_counts()\n",
    "\n",
    "plt.figure(figsize = (10, 10))\n",
    "age.plot(kind = 'bar')\n",
    "plt.xlabel('Age')\n",
    "plt.ylabel('Count')\n",
    "plt.show()"
   ]
  },
  {
   "cell_type": "markdown",
   "metadata": {},
   "source": [
    "__2. This is a pie chart showing the combination of primary and highlight color distribution.__"
   ]
  },
  {
   "cell_type": "code",
   "execution_count": 72,
   "metadata": {},
   "outputs": [
    {
     "data": {
      "image/png": "[encoded data removed]",
      "text/plain": [
       "<Figure size 1200x600 with 1 Axes>"
      ]
     },
     "metadata": {},
     "output_type": "display_data"
    }
   ],
   "source": [
    "color_counts = new_df['Combination of Primary and Highlight Color'].value_counts()\n",
    "\n",
    "plt.figure(figsize=(10, 10))\n",
    "plt.pie(color_counts, labels=color_counts.index, autopct='%1.1f%%')\n",
    "plt.axis('equal') \n",
    "plt.show()\n",
    "\n",
    "\n"
   ]
  },
  {
   "cell_type": "markdown",
   "metadata": {},
   "source": [
    "__3. This is a line plot showing the number of squirrels sighting in different locations.__"
   ]
  },
  {
   "cell_type": "code",
   "execution_count": null,
   "metadata": {},
   "outputs": [],
   "source": [
    "location_counts = new_df['Location'].value_counts()\n",
    "\n",
    "# Create a line plot\n",
    "plt.figure(figsize=(10, 10))\n",
    "plt.plot(location_counts.index, location_counts.values, marker='o')\n",
    "plt.xlabel('Location')\n",
    "plt.ylabel('Number of Squirrels')\n",
    "plt.xticks(rotation=45)\n",
    "for ii, count in enumerate(location_counts.values):\n",
    "    plt.text(ii, count + 0.1, str(count), ha='center')\n",
    "plt.tight_layout()\n",
    "plt.show()"
   ]
  },
  {
   "cell_type": "markdown",
   "metadata": {},
   "source": [
    "__4. This is a bar chart showing the percentage of squirrels performing different action.__"
   ]
  },
  {
   "cell_type": "code",
   "execution_count": null,
   "metadata": {},
   "outputs": [],
   "source": [
    "total = len(new_df)\n",
    "activities = new_df[['Running', 'Chasing', 'Climbing', 'Eating', 'Foraging']].sum()/total * 100\n",
    "\n",
    "plt.figure(figsize=(10, 10))\n",
    "activities.plot(kind = 'bar')\n",
    "plt.xlabel('Action')\n",
    "plt.ylabel('Percentage')\n",
    "plt.xticks(rotation=45)\n",
    "for ii, percent in enumerate(activities.values):\n",
    "    plt.text(ii, percent + 0.1, f'{percent:.1f}%', ha = 'center')\n",
    "plt.show()"
   ]
  },
  {
   "cell_type": "markdown",
   "metadata": {},
   "source": [
    "__5. This is a pie chart showing the percentage of squirrels sighting in evening of morning__"
   ]
  },
  {
   "cell_type": "code",
   "execution_count": null,
   "metadata": {},
   "outputs": [],
   "source": [
    "shift_counts = new_df['Shift'].value_counts()\n",
    "\n",
    "plt.figure(figsize=(10, 10))\n",
    "plt.pie(shift_counts, labels=shift_counts.index, autopct='%1.1f%%')\n",
    "plt.axis('equal') \n",
    "plt.show()"
   ]
  }
 ],
 "metadata": {
  "kernelspec": {
   "display_name": "Python 3 (ipykernel)",
   "language": "python",
   "name": "python3"
  },
  "language_info": {
   "codemirror_mode": {
    "name": "ipython",
    "version": 3
   },
   "file_extension": ".py",
   "mimetype": "text/x-python",
   "name": "python",
   "nbconvert_exporter": "python",
   "pygments_lexer": "ipython3",
   "version": "3.9.13"
  }
 },
 "nbformat": 4,
 "nbformat_minor": 4
}
